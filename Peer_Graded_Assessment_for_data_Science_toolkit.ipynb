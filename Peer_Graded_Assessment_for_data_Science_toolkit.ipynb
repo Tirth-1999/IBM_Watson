{
    "cells": [
        {
            "metadata": {
                "collapsed": true
            },
            "cell_type": "markdown",
            "source": "# My Jupyter Notebook on IBM Watson Studio"
        },
        {
            "metadata": {},
            "cell_type": "markdown",
            "source": "**Tirth Chirayu Shah**\n\nA Student by Profession "
        },
        {
            "metadata": {},
            "cell_type": "markdown",
            "source": "I am interested in data science because \"It is the Sexiext Job in today's world and we all are almost consumed in generating the data which we the data scientist use your transforming them into Insights. I love what I do.\""
        },
        {
            "metadata": {},
            "cell_type": "markdown",
            "source": "### The following code shows the multiplication table for the entered number till entered number of times"
        },
        {
            "metadata": {},
            "cell_type": "code",
            "source": "num = int(input(\"For which number you want Multiplication tables for : \"))\ntimes = int(input(\"Till what number of time : \"))",
            "execution_count": 5,
            "outputs": [
                {
                    "output_type": "stream",
                    "name": "stdout",
                    "text": "For which number you want Multiplication tables for : 4\nTill what number of time : 4\n"
                }
            ]
        },
        {
            "metadata": {},
            "cell_type": "code",
            "source": "for i in range(1,times+1):\n    print(f\"{num} * {i} = {str(int(num) * int(i))}\")",
            "execution_count": 9,
            "outputs": [
                {
                    "output_type": "stream",
                    "text": "4 * 1 = 4\n4 * 2 = 8\n4 * 3 = 12\n4 * 4 = 16\n",
                    "name": "stdout"
                }
            ]
        },
        {
            "metadata": {},
            "cell_type": "markdown",
            "source": "- This is a unordered bullet list\n- option 2\n    1. Sublist1\n        - **Bold example**\n    2. Sublist2\n        - *italics example*\n    3. url inclusion\n        -  | Heading | Heading |\n            | ----| ----|\n            | text   | text |\n            | text | text |\n\n- option 3"
        },
        {
            "metadata": {},
            "cell_type": "markdown",
            "source": "***"
        },
        {
            "metadata": {},
            "cell_type": "markdown",
            "source": "> blockquote Hello World"
        },
        {
            "metadata": {},
            "cell_type": "markdown",
            "source": "~~strikethrough~~"
        },
        {
            "metadata": {},
            "cell_type": "code",
            "source": "",
            "execution_count": null,
            "outputs": []
        }
    ],
    "metadata": {
        "kernelspec": {
            "name": "python3",
            "display_name": "Python 3.7",
            "language": "python"
        },
        "language_info": {
            "name": "python",
            "version": "3.7.9",
            "mimetype": "text/x-python",
            "codemirror_mode": {
                "name": "ipython",
                "version": 3
            },
            "pygments_lexer": "ipython3",
            "nbconvert_exporter": "python",
            "file_extension": ".py"
        }
    },
    "nbformat": 4,
    "nbformat_minor": 1
}